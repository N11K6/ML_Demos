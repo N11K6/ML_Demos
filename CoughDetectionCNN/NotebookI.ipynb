{
 "cells": [
  {
   "cell_type": "markdown",
   "metadata": {},
   "source": [
    "# Part I: Assembling a Dataset & Extracting the Features"
   ]
  },
  {
   "cell_type": "markdown",
   "metadata": {},
   "source": [
    "## Audio Data\n",
    "\n",
    "The first thing we need in order to create a model for cough detection and monitoring, is the data. \n",
    "\n",
    "Two types of audio were sought out in order to form our dataset: \n",
    "   1. The first is obviously samples of people coughing. No further label is necessary at this point, however it is useful to include examples of all sexes and ages. \n",
    "   2. The second is any type of sound that is not a cough. As the intended implementation of this model is as an overnight monitoring module, sounds that have a high likelyhood of being heard in such a scenario were sought out. These include: random talking, snoring, footsteps, doors & drawers being opened and shut, street noises as recorded from indoors.\n",
    "\n",
    "An existing snoring dataset was very helpful in assembing our own. A number of audio samples was used from:\n",
    "T. H. Khan, \"A deep learning model for snoring detection and vibration notification using a smart wearable gadget,\" Electronics, vol. 8, no. 9, article. 987, ISSN 2079-9292, 2019.\n",
    "\n",
    "All other audio has been obtained from open access sources, extracted from youtube videos, or recorded by the author."
   ]
  },
  {
   "cell_type": "code",
   "execution_count": 1,
   "metadata": {},
   "outputs": [],
   "source": [
    "# Import libraries to be used\n",
    "\n",
    "import numpy as np\n",
    "from pydub import AudioSegment\n",
    "import os\n",
    "from os import walk\n",
    "import librosa\n",
    "import librosa.display\n",
    "import matplotlib.pyplot as plt\n",
    "from pydub.silence import split_on_silence"
   ]
  },
  {
   "cell_type": "markdown",
   "metadata": {},
   "source": [
    "The various raw audio files have been stored in two directories named \"various cough sounds\" and \"various non-cough sounds\". These files are uneven in length and contain multiple instances of the acoustic events in question. \n",
    "\n",
    "A first step we have to take is to split these raw audio files into segments each containing a single event (cough, or a non-cough instance). We chose to save the segments as wav files since they are much more convenient to work with than mp3s."
   ]
  },
  {
   "cell_type": "code",
   "execution_count": null,
   "metadata": {},
   "outputs": [],
   "source": [
    "def isolate_events(loadpath, savepath, min_silence_len, silence_thresh):\n",
    "    '''Function to split raw audio into chunks corresponding to isolated events\n",
    "    takes a specified loading path, a saving path, the minimum silence time length \n",
    "    in ms, and the threshold for silence in dB.'''\n",
    "    \n",
    "    sound_file = AudioSegment.from_mp3(loadpath)\n",
    "    \n",
    "    # split audio\n",
    "    audio_chunks = split_on_silence(sound_file, \n",
    "                                    # must be silent for at least half a second\n",
    "                                    min_silence_len=min_silence_len,\n",
    "                                    # consider it silent if quieter than \n",
    "                                    silence_thresh=silence_thresh\n",
    "                                   )\n",
    "    # store the \n",
    "    for i, chunk in enumerate(audio_chunks):\n",
    "\n",
    "        out_file = savepath+i+\".wav\"\n",
    "        print(\"exporting\", out_file)\n",
    "        chunk.export(out_file, format=\"wav\")"
   ]
  },
  {
   "cell_type": "code",
   "execution_count": null,
   "metadata": {},
   "outputs": [],
   "source": [
    "# Make sure the directories exist to store the segmented audio:\n",
    "if not os.path.exists(\"cough_segments\"):\n",
    "    os.makedirs(\"cough_segments\")\n",
    "if not os.path.exists(\"nocough_segments\"):\n",
    "    os.makedirs(\"nocough_segments\")"
   ]
  },
  {
   "cell_type": "markdown",
   "metadata": {},
   "source": [
    "So now we can use the above function to extract audio events from our raw audio files. We will not automate this process further, as each raw audio file requires specific settings for the minimum silence length, and the silence threshold, that are better fine tuned manually."
   ]
  },
  {
   "cell_type": "code",
   "execution_count": null,
   "metadata": {},
   "outputs": [],
   "source": [
    "# Create cough audio events - or change the paths for the non-coughing events:\n",
    "LOADPATH = \"./various cough sounds/coughing_long (0).mp3\"\n",
    "SAVEPATH = \"./cough_segments/cough\"\n",
    "isolate_events(LOADPATH, SAVEPATH, 500, -35)"
   ]
  },
  {
   "cell_type": "markdown",
   "metadata": {},
   "source": [
    "## Generate Features\n",
    "\n",
    "So now we have a dataset full of short audio files, each corresponding to a single event (cough or no-cough). \n",
    "\n",
    "What is next, is to generate features we can train a model on out of this audio data. A good choice when it comes to human sounds is to use the Mel Frequency Ceptral Coefficients. We will not go into detail on what these are, but librosa has a convenient method to extract and plot these features. The resulting plots will be saved as png images.\n",
    "\n",
    "An example of an MFCC plot is shown below:"
   ]
  },
  {
   "cell_type": "code",
   "execution_count": 11,
   "metadata": {},
   "outputs": [
    {
     "data": {
      "text/plain": [
       "50538"
      ]
     },
     "execution_count": 11,
     "metadata": {},
     "output_type": "execute_result"
    },
    {
     "data": {
      "image/png": "[encoded data removed]",
      "text/plain": [
       "<Figure size 224.64x224.64 with 1 Axes>"
      ]
     },
     "metadata": {},
     "output_type": "display_data"
    }
   ],
   "source": [
    "# Check image output\n",
    "\n",
    "filepath = './cough_segments/cough405.wav'\n",
    "clip, sample_rate = librosa.load(filepath, sr=None)\n",
    "\n",
    "# Stretch clip to 1s if too short, or cut it to 2s if too long:\n",
    "if len(clip) <= sample_rate:\n",
    "    clip = np.append(clip, np.zeros(sample_rate-len(clip)))\n",
    "elif len(clip) >= 2 * sample_rate:\n",
    "    clip = clip[:sample_rate]\n",
    "\n",
    "# Set up figure:\n",
    "fig = plt.figure(figsize=[3.12,3.12])  #[3.12,3.12])\n",
    "ax = fig.add_subplot(111)\n",
    "ax.axes.get_xaxis().set_visible(False)\n",
    "ax.axes.get_yaxis().set_visible(False)\n",
    "ax.set_frame_on(False)\n",
    "\n",
    "# Calculate and plot MFCCs\n",
    "S = librosa.feature.mfcc(y=clip, sr=sample_rate)\n",
    "librosa.display.specshow(librosa.power_to_db(S, ref=np.max))\n",
    "len(clip)"
   ]
  },
  {
   "cell_type": "markdown",
   "metadata": {},
   "source": [
    "So this is an example of the MFCC for a cough event. Let's see what it looks like for something that is not a cough:"
   ]
  },
  {
   "cell_type": "code",
   "execution_count": 10,
   "metadata": {
    "scrolled": false
   },
   "outputs": [
    {
     "data": {
      "text/plain": [
       "44100"
      ]
     },
     "execution_count": 10,
     "metadata": {},
     "output_type": "execute_result"
    },
    {
     "data": {
      "image/png": "[encoded data removed]",
      "text/plain": [
       "<Figure size 224.64x224.64 with 1 Axes>"
      ]
     },
     "metadata": {},
     "output_type": "display_data"
    }
   ],
   "source": [
    "filepath = './nocough_segments/0_200.wav'\n",
    "clip, sample_rate = librosa.load(filepath, sr=None)\n",
    "if len(clip) >= sample_rate:\n",
    "    clip = clip[:sample_rate]\n",
    "else:\n",
    "    clip = np.append(clip, np.zeros(sample_rate-len(clip)))\n",
    "    \n",
    "fig = plt.figure(figsize=[3.12,3.12])  #[3.12,3.12])\n",
    "ax = fig.add_subplot(111)\n",
    "ax.axes.get_xaxis().set_visible(False)\n",
    "ax.axes.get_yaxis().set_visible(False)\n",
    "ax.set_frame_on(False)\n",
    "\n",
    "S = librosa.feature.mfcc(y=clip, sr=sample_rate)\n",
    "librosa.display.specshow(librosa.power_to_db(S, ref=np.max))\n",
    "len(clip)"
   ]
  },
  {
   "cell_type": "markdown",
   "metadata": {},
   "source": [
    "To us humans, and from just two examples, it might seem impossible to differentiate between the two classes. However, given enough input, and with well structured model, we can have a tool to detect patterns and perform the classification task. \n",
    "\n",
    "In short, what we are doing is representing sound with pictures. A great deal of the properties that define each audio sample are contained in these MFCC images. Therefore, we can rely on a model that would normally be used to classify images to perform the classification of audio events.\n",
    "\n",
    "The next step is to create an image dataset out of the audio samples we have extracted, using the MFCC transform."
   ]
  },
  {
   "cell_type": "code",
   "execution_count": null,
   "metadata": {},
   "outputs": [],
   "source": [
    "# Make sure the directories exist to store the MFCC images:\n",
    "if not os.path.exists(\"cough_mfccs_test\"):\n",
    "    os.makedirs(\"cough_mfccs_test\")\n",
    "if not os.path.exists(\"nocough_mfccs_test\"):\n",
    "    os.makedirs(\"nocough_mfccs_test\")"
   ]
  },
  {
   "cell_type": "markdown",
   "metadata": {},
   "source": [
    "The directory paths in following code can be modified to select according to the class:"
   ]
  },
  {
   "cell_type": "code",
   "execution_count": 17,
   "metadata": {},
   "outputs": [],
   "source": [
    "audio_files = []\n",
    "\n",
    "# go through the audio files in the desired directory:\n",
    "for (_,_,filenames) in walk('cough_segments_test'):\n",
    "    audio_files.extend(filenames)\n",
    "    break\n",
    "    \n",
    "for i, audio_file in enumerate(audio_files):\n",
    "    \n",
    "    # read audio samples\n",
    "    input_data, sample_rate = librosa.load(\"cough_segments_test/\"+audio_file, sr=None)\n",
    "    \n",
    "    # ensure sample is of a reasonable length between 1 and 2 s:\n",
    "    if len(input_data) >= sample_rate:\n",
    "        input_data = input_data[:sample_rate]\n",
    "    else:\n",
    "        input_data = np.append(input_data, np.zeros(sample_rate-len(input_data)))\n",
    "    \n",
    "    # define figure parameters\n",
    "    fig = plt.figure(figsize=[3.12,3.12])\n",
    "    ax = fig.add_subplot(111)\n",
    "    ax.axes.get_xaxis().set_visible(False)\n",
    "    ax.axes.get_yaxis().set_visible(False)\n",
    "    ax.set_frame_on(False)\n",
    "\n",
    "    # calculate MFCCs and generate plot\n",
    "    S = librosa.feature.mfcc(y=input_data, sr=sample_rate)\n",
    "    librosa.display.specshow(librosa.power_to_db(S, ref=np.max))\n",
    "\n",
    "    # store the MFCC image\n",
    "    plt.savefig(\"cough_mfccs_test/cough_test\" + str(i) + '.png')\n",
    "\n",
    "    plt.close('all')"
   ]
  },
  {
   "cell_type": "markdown",
   "metadata": {},
   "source": [
    "So by now we should have an image dataset of two classes, corresponding to cough and no-cough audio events. Using this data as input to our machine learning model, we should be able to train it so that it can detect coughing in an input audio stream.\n",
    "\n",
    "This is the end of Part I, see Part II in the second Notebook, where we compile and train our model using the features we just created."
   ]
  }
 ],
 "metadata": {
  "kernelspec": {
   "display_name": "Python 3",
   "language": "python",
   "name": "python3"
  },
  "language_info": {
   "codemirror_mode": {
    "name": "ipython",
    "version": 3
   },
   "file_extension": ".py",
   "mimetype": "text/x-python",
   "name": "python",
   "nbconvert_exporter": "python",
   "pygments_lexer": "ipython3",
   "version": "3.8.5"
  }
 },
 "nbformat": 4,
 "nbformat_minor": 4
}
