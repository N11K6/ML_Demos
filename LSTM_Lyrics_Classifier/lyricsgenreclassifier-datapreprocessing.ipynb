{
 "cells": [
  {
   "cell_type": "markdown",
   "metadata": {
    "papermill": {
     "duration": 0.025087,
     "end_time": "2021-02-08T16:00:50.567205",
     "exception": false,
     "start_time": "2021-02-08T16:00:50.542118",
     "status": "completed"
    },
    "tags": []
   },
   "source": [
    "# Lyrics-based Genre Classification\n",
    "\n",
    "Musical genres are usually distinguished from each other in terms of their musical content, be it orchestration, rhythmic metre and melodic structure. However, when it comes to songs, it is also the lyrical content that is often associated with a specific genre in its thematology and choice of expression.\n",
    "\n",
    "In this project we will attempt to classify songs belonging to 3 music genres (Pop, Rock, Hip Hop) depending solely on their lyrics. Our dataset for this task is found in Kaggle under the title *Scrapped Lyrics from 6 Genres*, and contains lyrics of songs across different artists, languages and genres."
   ]
  },
  {
   "cell_type": "code",
   "execution_count": 1,
   "metadata": {
    "_cell_guid": "b1076dfc-b9ad-4769-8c92-a6c4dae69d19",
    "_uuid": "8f2839f25d086af736a60e9eeb907d3b93b6e0e5",
    "execution": {
     "iopub.execute_input": "2021-02-08T16:00:50.624120Z",
     "iopub.status.busy": "2021-02-08T16:00:50.623280Z",
     "iopub.status.idle": "2021-02-08T16:00:50.640670Z",
     "shell.execute_reply": "2021-02-08T16:00:50.641437Z"
    },
    "papermill": {
     "duration": 0.050022,
     "end_time": "2021-02-08T16:00:50.641877",
     "exception": false,
     "start_time": "2021-02-08T16:00:50.591855",
     "status": "completed"
    },
    "tags": []
   },
   "outputs": [
    {
     "name": "stdout",
     "output_type": "stream",
     "text": [
      "/kaggle/input/scrapped-lyrics-from-6-genres/artists-data.csv\n",
      "/kaggle/input/scrapped-lyrics-from-6-genres/lyrics-data.csv\n"
     ]
    }
   ],
   "source": [
    "# Import dependencies:\n",
    "\n",
    "import numpy as np # linear algebra\n",
    "import pandas as pd # data processing, CSV file I/O (e.g. pd.read_csv)\n",
    "import os\n",
    "\n",
    "# Input data files are available in the read-only \"../input/\" directory\n",
    "# For example, running this (by clicking run or pressing Shift+Enter) will list all files under the input directory\n",
    "\n",
    "for dirname, _, filenames in os.walk('/kaggle/input'):\n",
    "    for filename in filenames:\n",
    "        print(os.path.join(dirname, filename))"
   ]
  },
  {
   "cell_type": "markdown",
   "metadata": {
    "papermill": {
     "duration": 0.038039,
     "end_time": "2021-02-08T16:00:50.720501",
     "exception": false,
     "start_time": "2021-02-08T16:00:50.682462",
     "status": "completed"
    },
    "tags": []
   },
   "source": [
    "Our data exists in two separate dataframes, one corresponding to the artists and their associated musical genre, and the other containing the songs and their lyrics. The link between the two dataframes is the name of the performing artist. We will process each starting dataframe separately before merging them in order to generate our feature dataset."
   ]
  },
  {
   "cell_type": "markdown",
   "metadata": {
    "papermill": {
     "duration": 0.038067,
     "end_time": "2021-02-08T16:00:50.798871",
     "exception": false,
     "start_time": "2021-02-08T16:00:50.760804",
     "status": "completed"
    },
    "tags": []
   },
   "source": [
    "### Artists dataframe\n",
    "\n",
    "First, we read in the \"artists-data.csv\" file."
   ]
  },
  {
   "cell_type": "code",
   "execution_count": 2,
   "metadata": {
    "execution": {
     "iopub.execute_input": "2021-02-08T16:00:50.879678Z",
     "iopub.status.busy": "2021-02-08T16:00:50.878879Z",
     "iopub.status.idle": "2021-02-08T16:00:50.943821Z",
     "shell.execute_reply": "2021-02-08T16:00:50.942998Z"
    },
    "papermill": {
     "duration": 0.10597,
     "end_time": "2021-02-08T16:00:50.943995",
     "exception": false,
     "start_time": "2021-02-08T16:00:50.838025",
     "status": "completed"
    },
    "tags": []
   },
   "outputs": [
    {
     "data": {
      "text/html": [
       "<div>\n",
       "<style scoped>\n",
       "    .dataframe tbody tr th:only-of-type {\n",
       "        vertical-align: middle;\n",
       "    }\n",
       "\n",
       "    .dataframe tbody tr th {\n",
       "        vertical-align: top;\n",
       "    }\n",
       "\n",
       "    .dataframe thead th {\n",
       "        text-align: right;\n",
       "    }\n",
       "</style>\n",
       "<table border=\"1\" class=\"dataframe\">\n",
       "  <thead>\n",
       "    <tr style=\"text-align: right;\">\n",
       "      <th></th>\n",
       "      <th>Artist</th>\n",
       "      <th>Songs</th>\n",
       "      <th>Popularity</th>\n",
       "      <th>Link</th>\n",
       "      <th>Genre</th>\n",
       "      <th>Genres</th>\n",
       "    </tr>\n",
       "  </thead>\n",
       "  <tbody>\n",
       "    <tr>\n",
       "      <th>0</th>\n",
       "      <td>10000 Maniacs</td>\n",
       "      <td>110</td>\n",
       "      <td>0.3</td>\n",
       "      <td>/10000-maniacs/</td>\n",
       "      <td>Rock</td>\n",
       "      <td>Rock; Pop; Electronica; Dance; J-Pop/J-Rock; G...</td>\n",
       "    </tr>\n",
       "    <tr>\n",
       "      <th>1</th>\n",
       "      <td>12 Stones</td>\n",
       "      <td>75</td>\n",
       "      <td>0.3</td>\n",
       "      <td>/12-stones/</td>\n",
       "      <td>Rock</td>\n",
       "      <td>Rock; Gospel/Religioso; Hard Rock; Grunge; Roc...</td>\n",
       "    </tr>\n",
       "    <tr>\n",
       "      <th>2</th>\n",
       "      <td>311</td>\n",
       "      <td>196</td>\n",
       "      <td>0.5</td>\n",
       "      <td>/311/</td>\n",
       "      <td>Rock</td>\n",
       "      <td>Rock; Surf Music; Reggae; Ska; Pop/Rock; Rock ...</td>\n",
       "    </tr>\n",
       "    <tr>\n",
       "      <th>3</th>\n",
       "      <td>4 Non Blondes</td>\n",
       "      <td>15</td>\n",
       "      <td>7.5</td>\n",
       "      <td>/4-non-blondes/</td>\n",
       "      <td>Rock</td>\n",
       "      <td>Rock; Pop/Rock; Rock Alternativo; Grunge; Blue...</td>\n",
       "    </tr>\n",
       "    <tr>\n",
       "      <th>4</th>\n",
       "      <td>A Cruz Está Vazia</td>\n",
       "      <td>13</td>\n",
       "      <td>0.0</td>\n",
       "      <td>/a-cruz-esta-vazia/</td>\n",
       "      <td>Rock</td>\n",
       "      <td>Rock</td>\n",
       "    </tr>\n",
       "  </tbody>\n",
       "</table>\n",
       "</div>"
      ],
      "text/plain": [
       "              Artist  Songs  Popularity                 Link Genre  \\\n",
       "0      10000 Maniacs    110         0.3      /10000-maniacs/  Rock   \n",
       "1          12 Stones     75         0.3          /12-stones/  Rock   \n",
       "2                311    196         0.5                /311/  Rock   \n",
       "3      4 Non Blondes     15         7.5      /4-non-blondes/  Rock   \n",
       "4  A Cruz Está Vazia     13         0.0  /a-cruz-esta-vazia/  Rock   \n",
       "\n",
       "                                              Genres  \n",
       "0  Rock; Pop; Electronica; Dance; J-Pop/J-Rock; G...  \n",
       "1  Rock; Gospel/Religioso; Hard Rock; Grunge; Roc...  \n",
       "2  Rock; Surf Music; Reggae; Ska; Pop/Rock; Rock ...  \n",
       "3  Rock; Pop/Rock; Rock Alternativo; Grunge; Blue...  \n",
       "4                                               Rock  "
      ]
     },
     "execution_count": 2,
     "metadata": {},
     "output_type": "execute_result"
    }
   ],
   "source": [
    "df_artists = pd.read_csv('/kaggle/input/scrapped-lyrics-from-6-genres/artists-data.csv')\n",
    "df_artists.head()"
   ]
  },
  {
   "cell_type": "markdown",
   "metadata": {
    "papermill": {
     "duration": 0.038924,
     "end_time": "2021-02-08T16:00:51.022052",
     "exception": false,
     "start_time": "2021-02-08T16:00:50.983128",
     "status": "completed"
    },
    "tags": []
   },
   "source": [
    "We can see that this dataframe contains information about the artists included in the set. The information we will be using for our classification task is the Artist name and Genre assigned to them. When it comes to the name, it is better to use the Link column, as we will see it also exists in the lyrics dataframe, and will allow us to merge the dataframes easier. The rest of the columns can be dropped now."
   ]
  },
  {
   "cell_type": "code",
   "execution_count": 3,
   "metadata": {
    "execution": {
     "iopub.execute_input": "2021-02-08T16:00:51.111464Z",
     "iopub.status.busy": "2021-02-08T16:00:51.110661Z",
     "iopub.status.idle": "2021-02-08T16:00:51.115271Z",
     "shell.execute_reply": "2021-02-08T16:00:51.115955Z"
    },
    "papermill": {
     "duration": 0.054806,
     "end_time": "2021-02-08T16:00:51.116126",
     "exception": false,
     "start_time": "2021-02-08T16:00:51.061320",
     "status": "completed"
    },
    "tags": []
   },
   "outputs": [
    {
     "data": {
      "text/html": [
       "<div>\n",
       "<style scoped>\n",
       "    .dataframe tbody tr th:only-of-type {\n",
       "        vertical-align: middle;\n",
       "    }\n",
       "\n",
       "    .dataframe tbody tr th {\n",
       "        vertical-align: top;\n",
       "    }\n",
       "\n",
       "    .dataframe thead th {\n",
       "        text-align: right;\n",
       "    }\n",
       "</style>\n",
       "<table border=\"1\" class=\"dataframe\">\n",
       "  <thead>\n",
       "    <tr style=\"text-align: right;\">\n",
       "      <th></th>\n",
       "      <th>Link</th>\n",
       "      <th>Genre</th>\n",
       "    </tr>\n",
       "  </thead>\n",
       "  <tbody>\n",
       "    <tr>\n",
       "      <th>0</th>\n",
       "      <td>/10000-maniacs/</td>\n",
       "      <td>Rock</td>\n",
       "    </tr>\n",
       "    <tr>\n",
       "      <th>1</th>\n",
       "      <td>/12-stones/</td>\n",
       "      <td>Rock</td>\n",
       "    </tr>\n",
       "    <tr>\n",
       "      <th>2</th>\n",
       "      <td>/311/</td>\n",
       "      <td>Rock</td>\n",
       "    </tr>\n",
       "    <tr>\n",
       "      <th>3</th>\n",
       "      <td>/4-non-blondes/</td>\n",
       "      <td>Rock</td>\n",
       "    </tr>\n",
       "    <tr>\n",
       "      <th>4</th>\n",
       "      <td>/a-cruz-esta-vazia/</td>\n",
       "      <td>Rock</td>\n",
       "    </tr>\n",
       "  </tbody>\n",
       "</table>\n",
       "</div>"
      ],
      "text/plain": [
       "                  Link Genre\n",
       "0      /10000-maniacs/  Rock\n",
       "1          /12-stones/  Rock\n",
       "2                /311/  Rock\n",
       "3      /4-non-blondes/  Rock\n",
       "4  /a-cruz-esta-vazia/  Rock"
      ]
     },
     "execution_count": 3,
     "metadata": {},
     "output_type": "execute_result"
    }
   ],
   "source": [
    "df_artists_2c = df_artists[['Link', 'Genre']]\n",
    "df_artists_2c.head()"
   ]
  },
  {
   "cell_type": "markdown",
   "metadata": {
    "papermill": {
     "duration": 0.039019,
     "end_time": "2021-02-08T16:00:51.194359",
     "exception": false,
     "start_time": "2021-02-08T16:00:51.155340",
     "status": "completed"
    },
    "tags": []
   },
   "source": [
    "So now we have an artist dataframe that's much easier to work with. Let's see if there are any duplicate entries of artists."
   ]
  },
  {
   "cell_type": "code",
   "execution_count": 4,
   "metadata": {
    "execution": {
     "iopub.execute_input": "2021-02-08T16:00:51.276083Z",
     "iopub.status.busy": "2021-02-08T16:00:51.275302Z",
     "iopub.status.idle": "2021-02-08T16:00:51.289909Z",
     "shell.execute_reply": "2021-02-08T16:00:51.290511Z"
    },
    "papermill": {
     "duration": 0.057229,
     "end_time": "2021-02-08T16:00:51.290707",
     "exception": false,
     "start_time": "2021-02-08T16:00:51.233478",
     "status": "completed"
    },
    "tags": []
   },
   "outputs": [
    {
     "data": {
      "text/plain": [
       "False    2940\n",
       "True      302\n",
       "dtype: int64"
      ]
     },
     "execution_count": 4,
     "metadata": {},
     "output_type": "execute_result"
    }
   ],
   "source": [
    "df_artists_2c.duplicated(subset = 'Link', keep = 'first').value_counts()"
   ]
  },
  {
   "cell_type": "markdown",
   "metadata": {
    "papermill": {
     "duration": 0.03986,
     "end_time": "2021-02-08T16:00:51.370181",
     "exception": false,
     "start_time": "2021-02-08T16:00:51.330321",
     "status": "completed"
    },
    "tags": []
   },
   "source": [
    "There are 302 instances of duplicate artist entries. We can check one of those below:"
   ]
  },
  {
   "cell_type": "code",
   "execution_count": 5,
   "metadata": {
    "execution": {
     "iopub.execute_input": "2021-02-08T16:00:51.461134Z",
     "iopub.status.busy": "2021-02-08T16:00:51.460228Z",
     "iopub.status.idle": "2021-02-08T16:00:51.465647Z",
     "shell.execute_reply": "2021-02-08T16:00:51.465020Z"
    },
    "papermill": {
     "duration": 0.055636,
     "end_time": "2021-02-08T16:00:51.465786",
     "exception": false,
     "start_time": "2021-02-08T16:00:51.410150",
     "status": "completed"
    },
    "tags": []
   },
   "outputs": [
    {
     "data": {
      "text/html": [
       "<div>\n",
       "<style scoped>\n",
       "    .dataframe tbody tr th:only-of-type {\n",
       "        vertical-align: middle;\n",
       "    }\n",
       "\n",
       "    .dataframe tbody tr th {\n",
       "        vertical-align: top;\n",
       "    }\n",
       "\n",
       "    .dataframe thead th {\n",
       "        text-align: right;\n",
       "    }\n",
       "</style>\n",
       "<table border=\"1\" class=\"dataframe\">\n",
       "  <thead>\n",
       "    <tr style=\"text-align: right;\">\n",
       "      <th></th>\n",
       "      <th>Link</th>\n",
       "      <th>Genre</th>\n",
       "    </tr>\n",
       "  </thead>\n",
       "  <tbody>\n",
       "    <tr>\n",
       "      <th>0</th>\n",
       "      <td>/10000-maniacs/</td>\n",
       "      <td>Rock</td>\n",
       "    </tr>\n",
       "    <tr>\n",
       "      <th>1947</th>\n",
       "      <td>/10000-maniacs/</td>\n",
       "      <td>Pop</td>\n",
       "    </tr>\n",
       "  </tbody>\n",
       "</table>\n",
       "</div>"
      ],
      "text/plain": [
       "                 Link Genre\n",
       "0     /10000-maniacs/  Rock\n",
       "1947  /10000-maniacs/   Pop"
      ]
     },
     "execution_count": 5,
     "metadata": {},
     "output_type": "execute_result"
    }
   ],
   "source": [
    "df_artists_2c.loc[lambda df: df['Link'] == '/10000-maniacs/']"
   ]
  },
  {
   "cell_type": "markdown",
   "metadata": {
    "papermill": {
     "duration": 0.028357,
     "end_time": "2021-02-08T16:00:51.523157",
     "exception": false,
     "start_time": "2021-02-08T16:00:51.494800",
     "status": "completed"
    },
    "tags": []
   },
   "source": [
    "We can see that the issue here is certain artists have been classified under multiple genres. Let's make sure this is the problem and we don't actually have multiple identical entries all across our columns."
   ]
  },
  {
   "cell_type": "code",
   "execution_count": 6,
   "metadata": {
    "execution": {
     "iopub.execute_input": "2021-02-08T16:00:51.586635Z",
     "iopub.status.busy": "2021-02-08T16:00:51.585753Z",
     "iopub.status.idle": "2021-02-08T16:00:51.596220Z",
     "shell.execute_reply": "2021-02-08T16:00:51.595686Z"
    },
    "papermill": {
     "duration": 0.04482,
     "end_time": "2021-02-08T16:00:51.596362",
     "exception": false,
     "start_time": "2021-02-08T16:00:51.551542",
     "status": "completed"
    },
    "tags": []
   },
   "outputs": [
    {
     "data": {
      "text/plain": [
       "False    3242\n",
       "dtype: int64"
      ]
     },
     "execution_count": 6,
     "metadata": {},
     "output_type": "execute_result"
    }
   ],
   "source": [
    "df_artists_2c.duplicated().value_counts()"
   ]
  },
  {
   "cell_type": "markdown",
   "metadata": {
    "papermill": {
     "duration": 0.028573,
     "end_time": "2021-02-08T16:00:51.653822",
     "exception": false,
     "start_time": "2021-02-08T16:00:51.625249",
     "status": "completed"
    },
    "tags": []
   },
   "source": [
    "Indeed it is an issue of multiple genres for a single artist. A couple of approaches we can take with this issue are:\n",
    "1. We only keep one genre per artist. This will greatly simplify things, however it will make our model relatively rigid and inaccurate in its classification, and there's always the issue of which single genre would be more fitting to keep for an artist.\n",
    "2. We leave this dataframe as is, and the resulting merged dataframe will contain duplicate entries of lyrics under multiple labels. This will, one could argue that keeping these duplicates will make our model assign a weaker association of the lyrics with a specific genre.\n",
    "\n",
    "To take the first approach, we can run the code cell below and use the resulting df_artists_nd dataframe. This will eliminate all double entries and strictly assign one genre per artist. Our model will be simplistic but more robust. "
   ]
  },
  {
   "cell_type": "code",
   "execution_count": 7,
   "metadata": {
    "execution": {
     "iopub.execute_input": "2021-02-08T16:00:51.718805Z",
     "iopub.status.busy": "2021-02-08T16:00:51.718152Z",
     "iopub.status.idle": "2021-02-08T16:00:51.732057Z",
     "shell.execute_reply": "2021-02-08T16:00:51.731041Z"
    },
    "papermill": {
     "duration": 0.049353,
     "end_time": "2021-02-08T16:00:51.732288",
     "exception": false,
     "start_time": "2021-02-08T16:00:51.682935",
     "status": "completed"
    },
    "tags": []
   },
   "outputs": [
    {
     "data": {
      "text/plain": [
       "Rock            755\n",
       "Pop             696\n",
       "Sertanejo       569\n",
       "Hip Hop         467\n",
       "Funk Carioca    265\n",
       "Samba           188\n",
       "Name: Genre, dtype: int64"
      ]
     },
     "execution_count": 7,
     "metadata": {},
     "output_type": "execute_result"
    }
   ],
   "source": [
    "df_artists_nd = df_artists_2c.drop_duplicates(subset='Link', keep='first', ignore_index=False)\n",
    "df_artists_nd.Genre.value_counts()"
   ]
  },
  {
   "cell_type": "markdown",
   "metadata": {
    "papermill": {
     "duration": 0.049191,
     "end_time": "2021-02-08T16:00:51.833708",
     "exception": false,
     "start_time": "2021-02-08T16:00:51.784517",
     "status": "completed"
    },
    "tags": []
   },
   "source": [
    "## Lyrics dataframe\n",
    "\n",
    "Time to load and take a look at our lyrics dataframe."
   ]
  },
  {
   "cell_type": "code",
   "execution_count": 8,
   "metadata": {
    "execution": {
     "iopub.execute_input": "2021-02-08T16:00:51.927146Z",
     "iopub.status.busy": "2021-02-08T16:00:51.926487Z",
     "iopub.status.idle": "2021-02-08T16:00:59.465744Z",
     "shell.execute_reply": "2021-02-08T16:00:59.464328Z"
    },
    "papermill": {
     "duration": 7.589459,
     "end_time": "2021-02-08T16:00:59.465874",
     "exception": false,
     "start_time": "2021-02-08T16:00:51.876415",
     "status": "completed"
    },
    "tags": []
   },
   "outputs": [
    {
     "data": {
      "text/html": [
       "<div>\n",
       "<style scoped>\n",
       "    .dataframe tbody tr th:only-of-type {\n",
       "        vertical-align: middle;\n",
       "    }\n",
       "\n",
       "    .dataframe tbody tr th {\n",
       "        vertical-align: top;\n",
       "    }\n",
       "\n",
       "    .dataframe thead th {\n",
       "        text-align: right;\n",
       "    }\n",
       "</style>\n",
       "<table border=\"1\" class=\"dataframe\">\n",
       "  <thead>\n",
       "    <tr style=\"text-align: right;\">\n",
       "      <th></th>\n",
       "      <th>ALink</th>\n",
       "      <th>SName</th>\n",
       "      <th>SLink</th>\n",
       "      <th>Lyric</th>\n",
       "      <th>Idiom</th>\n",
       "    </tr>\n",
       "  </thead>\n",
       "  <tbody>\n",
       "    <tr>\n",
       "      <th>0</th>\n",
       "      <td>/10000-maniacs/</td>\n",
       "      <td>More Than This</td>\n",
       "      <td>/10000-maniacs/more-than-this.html</td>\n",
       "      <td>I could feel at the time. There was no way of ...</td>\n",
       "      <td>ENGLISH</td>\n",
       "    </tr>\n",
       "    <tr>\n",
       "      <th>1</th>\n",
       "      <td>/10000-maniacs/</td>\n",
       "      <td>Because The Night</td>\n",
       "      <td>/10000-maniacs/because-the-night.html</td>\n",
       "      <td>Take me now, baby, here as I am. Hold me close...</td>\n",
       "      <td>ENGLISH</td>\n",
       "    </tr>\n",
       "    <tr>\n",
       "      <th>2</th>\n",
       "      <td>/10000-maniacs/</td>\n",
       "      <td>These Are Days</td>\n",
       "      <td>/10000-maniacs/these-are-days.html</td>\n",
       "      <td>These are. These are days you'll remember. Nev...</td>\n",
       "      <td>ENGLISH</td>\n",
       "    </tr>\n",
       "    <tr>\n",
       "      <th>3</th>\n",
       "      <td>/10000-maniacs/</td>\n",
       "      <td>A Campfire Song</td>\n",
       "      <td>/10000-maniacs/a-campfire-song.html</td>\n",
       "      <td>A lie to say, \"O my mountain has coal veins an...</td>\n",
       "      <td>ENGLISH</td>\n",
       "    </tr>\n",
       "    <tr>\n",
       "      <th>4</th>\n",
       "      <td>/10000-maniacs/</td>\n",
       "      <td>Everyday Is Like Sunday</td>\n",
       "      <td>/10000-maniacs/everyday-is-like-sunday.html</td>\n",
       "      <td>Trudging slowly over wet sand. Back to the ben...</td>\n",
       "      <td>ENGLISH</td>\n",
       "    </tr>\n",
       "  </tbody>\n",
       "</table>\n",
       "</div>"
      ],
      "text/plain": [
       "             ALink                    SName  \\\n",
       "0  /10000-maniacs/           More Than This   \n",
       "1  /10000-maniacs/        Because The Night   \n",
       "2  /10000-maniacs/           These Are Days   \n",
       "3  /10000-maniacs/          A Campfire Song   \n",
       "4  /10000-maniacs/  Everyday Is Like Sunday   \n",
       "\n",
       "                                         SLink  \\\n",
       "0           /10000-maniacs/more-than-this.html   \n",
       "1        /10000-maniacs/because-the-night.html   \n",
       "2           /10000-maniacs/these-are-days.html   \n",
       "3          /10000-maniacs/a-campfire-song.html   \n",
       "4  /10000-maniacs/everyday-is-like-sunday.html   \n",
       "\n",
       "                                               Lyric    Idiom  \n",
       "0  I could feel at the time. There was no way of ...  ENGLISH  \n",
       "1  Take me now, baby, here as I am. Hold me close...  ENGLISH  \n",
       "2  These are. These are days you'll remember. Nev...  ENGLISH  \n",
       "3  A lie to say, \"O my mountain has coal veins an...  ENGLISH  \n",
       "4  Trudging slowly over wet sand. Back to the ben...  ENGLISH  "
      ]
     },
     "execution_count": 8,
     "metadata": {},
     "output_type": "execute_result"
    }
   ],
   "source": [
    "df_lyrics = pd.read_csv('/kaggle/input/scrapped-lyrics-from-6-genres/lyrics-data.csv')\n",
    "df_lyrics.head()"
   ]
  },
  {
   "cell_type": "markdown",
   "metadata": {
    "papermill": {
     "duration": 0.028305,
     "end_time": "2021-02-08T16:00:59.522692",
     "exception": false,
     "start_time": "2021-02-08T16:00:59.494387",
     "status": "completed"
    },
    "tags": []
   },
   "source": [
    "One of the columns is Idiom, which denotes the language of the lyrics. Let's see how many languages we have in our dataset."
   ]
  },
  {
   "cell_type": "code",
   "execution_count": 9,
   "metadata": {
    "execution": {
     "iopub.execute_input": "2021-02-08T16:00:59.605401Z",
     "iopub.status.busy": "2021-02-08T16:00:59.604241Z",
     "iopub.status.idle": "2021-02-08T16:00:59.613254Z",
     "shell.execute_reply": "2021-02-08T16:00:59.612682Z"
    },
    "papermill": {
     "duration": 0.062132,
     "end_time": "2021-02-08T16:00:59.613399",
     "exception": false,
     "start_time": "2021-02-08T16:00:59.551267",
     "status": "completed"
    },
    "tags": []
   },
   "outputs": [
    {
     "data": {
      "text/plain": [
       "ENGLISH           114723\n",
       "PORTUGUESE         85085\n",
       "SPANISH             4812\n",
       "ITALIAN              626\n",
       "FRENCH               471\n",
       "GERMAN               314\n",
       "KINYARWANDA           88\n",
       "ICELANDIC             47\n",
       "SWEDISH               27\n",
       "FINNISH               24\n",
       "INDONESIAN            17\n",
       "ESTONIAN              12\n",
       "GALICIAN              12\n",
       "HAITIAN_CREOLE         9\n",
       "DANISH                 9\n",
       "IRISH                  9\n",
       "BASQUE                 8\n",
       "CROATIAN               7\n",
       "NORWEGIAN              7\n",
       "TAGALOG                7\n",
       "SUNDANESE              6\n",
       "CATALAN                6\n",
       "SWAHILI                5\n",
       "DUTCH                  5\n",
       "MALAY                  4\n",
       "RUSSIAN                4\n",
       "SERBIAN                3\n",
       "ARABIC                 2\n",
       "TURKISH                2\n",
       "NYANJA                 2\n",
       "KURDISH                2\n",
       "SESOTHO                2\n",
       "CEBUANO                2\n",
       "JAPANESE               2\n",
       "MALAGASY               2\n",
       "CZECH                  1\n",
       "AFRIKAANS              1\n",
       "SLOVAK                 1\n",
       "POLISH                 1\n",
       "GANDA                  1\n",
       "KOREAN                 1\n",
       "BOSNIAN                1\n",
       "HUNGARIAN              1\n",
       "SLOVENIAN              1\n",
       "HMONG                  1\n",
       "ROMANIAN               1\n",
       "WELSH                  1\n",
       "Name: Idiom, dtype: int64"
      ]
     },
     "execution_count": 9,
     "metadata": {},
     "output_type": "execute_result"
    }
   ],
   "source": [
    "df_lyrics.Idiom.value_counts()"
   ]
  },
  {
   "cell_type": "markdown",
   "metadata": {
    "papermill": {
     "duration": 0.029336,
     "end_time": "2021-02-08T16:00:59.673042",
     "exception": false,
     "start_time": "2021-02-08T16:00:59.643706",
     "status": "completed"
    },
    "tags": []
   },
   "source": [
    "Quite a few languages, especially Portuguese. We will only use songs in English for this task, therefore we must drop all other languages."
   ]
  },
  {
   "cell_type": "code",
   "execution_count": 10,
   "metadata": {
    "execution": {
     "iopub.execute_input": "2021-02-08T16:00:59.777040Z",
     "iopub.status.busy": "2021-02-08T16:00:59.776166Z",
     "iopub.status.idle": "2021-02-08T16:00:59.887386Z",
     "shell.execute_reply": "2021-02-08T16:00:59.886461Z"
    },
    "papermill": {
     "duration": 0.184418,
     "end_time": "2021-02-08T16:00:59.887528",
     "exception": false,
     "start_time": "2021-02-08T16:00:59.703110",
     "status": "completed"
    },
    "tags": []
   },
   "outputs": [
    {
     "data": {
      "text/plain": [
       "ENGLISH    114723\n",
       "Name: Idiom, dtype: int64"
      ]
     },
     "execution_count": 10,
     "metadata": {},
     "output_type": "execute_result"
    }
   ],
   "source": [
    "df_lyrics_en = df_lyrics.drop(df_lyrics[df_lyrics['Idiom'] !='ENGLISH'].index)\n",
    "df_lyrics_en.Idiom.value_counts()"
   ]
  },
  {
   "cell_type": "markdown",
   "metadata": {
    "papermill": {
     "duration": 0.02902,
     "end_time": "2021-02-08T16:00:59.946107",
     "exception": false,
     "start_time": "2021-02-08T16:00:59.917087",
     "status": "completed"
    },
    "tags": []
   },
   "source": [
    "So now we have an exclusively English lyrics dataframe. Time to search for duplicate entries."
   ]
  },
  {
   "cell_type": "code",
   "execution_count": 11,
   "metadata": {
    "execution": {
     "iopub.execute_input": "2021-02-08T16:01:00.007795Z",
     "iopub.status.busy": "2021-02-08T16:01:00.007145Z",
     "iopub.status.idle": "2021-02-08T16:01:00.045963Z",
     "shell.execute_reply": "2021-02-08T16:01:00.046485Z"
    },
    "papermill": {
     "duration": 0.071355,
     "end_time": "2021-02-08T16:01:00.046671",
     "exception": false,
     "start_time": "2021-02-08T16:00:59.975316",
     "status": "completed"
    },
    "tags": []
   },
   "outputs": [
    {
     "data": {
      "text/plain": [
       "False    91611\n",
       "True     23112\n",
       "dtype: int64"
      ]
     },
     "execution_count": 11,
     "metadata": {},
     "output_type": "execute_result"
    }
   ],
   "source": [
    "# Search for duplicate entries in 'SLink' (Artist & Song name):\n",
    "df_lyrics_en.duplicated(subset = 'SLink', keep = 'first').value_counts()"
   ]
  },
  {
   "cell_type": "markdown",
   "metadata": {
    "papermill": {
     "duration": 0.030248,
     "end_time": "2021-02-08T16:01:00.107017",
     "exception": false,
     "start_time": "2021-02-08T16:01:00.076769",
     "status": "completed"
    },
    "tags": []
   },
   "source": [
    "This means that the same song by the same artist has multiple entries. We can discard these duplicates."
   ]
  },
  {
   "cell_type": "code",
   "execution_count": 12,
   "metadata": {
    "execution": {
     "iopub.execute_input": "2021-02-08T16:01:00.170750Z",
     "iopub.status.busy": "2021-02-08T16:01:00.170144Z",
     "iopub.status.idle": "2021-02-08T16:01:00.619561Z",
     "shell.execute_reply": "2021-02-08T16:01:00.618913Z"
    },
    "papermill": {
     "duration": 0.48233,
     "end_time": "2021-02-08T16:01:00.619735",
     "exception": false,
     "start_time": "2021-02-08T16:01:00.137405",
     "status": "completed"
    },
    "tags": []
   },
   "outputs": [
    {
     "data": {
      "text/plain": [
       "False    90796\n",
       "True       815\n",
       "dtype: int64"
      ]
     },
     "execution_count": 12,
     "metadata": {},
     "output_type": "execute_result"
    }
   ],
   "source": [
    "# Drop duplicates in the field 'SLink'\n",
    "df_lyrics_en.drop_duplicates(subset='SLink', keep='first', inplace=True, ignore_index=False)\n",
    "\n",
    "# Search for persisting duplicate lyric entries:\n",
    "df_lyrics_en.duplicated(subset = 'Lyric', keep = 'first').value_counts()"
   ]
  },
  {
   "cell_type": "markdown",
   "metadata": {
    "papermill": {
     "duration": 0.031239,
     "end_time": "2021-02-08T16:01:00.681733",
     "exception": false,
     "start_time": "2021-02-08T16:01:00.650494",
     "status": "completed"
    },
    "tags": []
   },
   "source": [
    "There are still duplicate lyrics entries. This is most likely due to the same song being performed by multiple artists. But let's take a better look."
   ]
  },
  {
   "cell_type": "code",
   "execution_count": 13,
   "metadata": {
    "execution": {
     "iopub.execute_input": "2021-02-08T16:01:00.766009Z",
     "iopub.status.busy": "2021-02-08T16:01:00.765224Z",
     "iopub.status.idle": "2021-02-08T16:01:01.146869Z",
     "shell.execute_reply": "2021-02-08T16:01:01.146351Z"
    },
    "papermill": {
     "duration": 0.434268,
     "end_time": "2021-02-08T16:01:01.146998",
     "exception": false,
     "start_time": "2021-02-08T16:01:00.712730",
     "status": "completed"
    },
    "tags": []
   },
   "outputs": [
    {
     "data": {
      "text/html": [
       "<div>\n",
       "<style scoped>\n",
       "    .dataframe tbody tr th:only-of-type {\n",
       "        vertical-align: middle;\n",
       "    }\n",
       "\n",
       "    .dataframe tbody tr th {\n",
       "        vertical-align: top;\n",
       "    }\n",
       "\n",
       "    .dataframe thead th {\n",
       "        text-align: right;\n",
       "    }\n",
       "</style>\n",
       "<table border=\"1\" class=\"dataframe\">\n",
       "  <thead>\n",
       "    <tr style=\"text-align: right;\">\n",
       "      <th></th>\n",
       "      <th>ALink</th>\n",
       "      <th>SName</th>\n",
       "      <th>SLink</th>\n",
       "      <th>Lyric</th>\n",
       "      <th>Idiom</th>\n",
       "    </tr>\n",
       "  </thead>\n",
       "  <tbody>\n",
       "    <tr>\n",
       "      <th>460</th>\n",
       "      <td>/311/</td>\n",
       "      <td>Leaving Babylon</td>\n",
       "      <td>/311/leaving-babylon.html</td>\n",
       "      <td>My computer is future shockin’. download this ...</td>\n",
       "      <td>ENGLISH</td>\n",
       "    </tr>\n",
       "    <tr>\n",
       "      <th>466</th>\n",
       "      <td>/311/</td>\n",
       "      <td>Livin' &amp; Rockin'</td>\n",
       "      <td>/311/livin-rockin.html</td>\n",
       "      <td>My computer is future shockin’. download this ...</td>\n",
       "      <td>ENGLISH</td>\n",
       "    </tr>\n",
       "    <tr>\n",
       "      <th>474</th>\n",
       "      <td>/311/</td>\n",
       "      <td>Mindspin</td>\n",
       "      <td>/311/mindspin.html</td>\n",
       "      <td>My computer is future shockin’. download this ...</td>\n",
       "      <td>ENGLISH</td>\n",
       "    </tr>\n",
       "    <tr>\n",
       "      <th>1495</th>\n",
       "      <td>/aerosmith/</td>\n",
       "      <td>Write Me A Letter</td>\n",
       "      <td>/aerosmith/write-me-a-letter-cifrada.html</td>\n",
       "      <td>WRITE ME A LETTER\\nguitar 1(Joe)\\nE-----------...</td>\n",
       "      <td>ENGLISH</td>\n",
       "    </tr>\n",
       "    <tr>\n",
       "      <th>2065</th>\n",
       "      <td>/alesana/</td>\n",
       "      <td>Second Guessing</td>\n",
       "      <td>/alesana/second-guessing.html</td>\n",
       "      <td>These eyes they have seen the world. These fee...</td>\n",
       "      <td>ENGLISH</td>\n",
       "    </tr>\n",
       "    <tr>\n",
       "      <th>...</th>\n",
       "      <td>...</td>\n",
       "      <td>...</td>\n",
       "      <td>...</td>\n",
       "      <td>...</td>\n",
       "      <td>...</td>\n",
       "    </tr>\n",
       "    <tr>\n",
       "      <th>170899</th>\n",
       "      <td>/jorge-e-mateus/</td>\n",
       "      <td>Use Somebody</td>\n",
       "      <td>/jorge-e-mateus/use-somebody.html</td>\n",
       "      <td>I've been roaming around. Always looking down ...</td>\n",
       "      <td>ENGLISH</td>\n",
       "    </tr>\n",
       "    <tr>\n",
       "      <th>181811</th>\n",
       "      <td>/ronny-e-rangel/</td>\n",
       "      <td>Have You Ever Seen The Rain?</td>\n",
       "      <td>/ronny-e-rangel/have-you-ever-seen-the-rain.html</td>\n",
       "      <td>Someone told me long ago. There's a calm befor...</td>\n",
       "      <td>ENGLISH</td>\n",
       "    </tr>\n",
       "    <tr>\n",
       "      <th>189026</th>\n",
       "      <td>/lenny-b/</td>\n",
       "      <td>We Found Love</td>\n",
       "      <td>/lenny-b/we-found-love.html</td>\n",
       "      <td>Yellow diamonds in the light. And we're standi...</td>\n",
       "      <td>ENGLISH</td>\n",
       "    </tr>\n",
       "    <tr>\n",
       "      <th>195050</th>\n",
       "      <td>/alexandre-pires/</td>\n",
       "      <td>Jingle Bell Rock</td>\n",
       "      <td>/alexandre-pires/jingle-bell-rock.html</td>\n",
       "      <td>Jingle bell, jingle bell, jingle bell rock. Ji...</td>\n",
       "      <td>ENGLISH</td>\n",
       "    </tr>\n",
       "    <tr>\n",
       "      <th>207552</th>\n",
       "      <td>/sambo/</td>\n",
       "      <td>Suddenly I See</td>\n",
       "      <td>/sambo/suddenly-i-see.html</td>\n",
       "      <td>Her face is a map of the world, is a map of th...</td>\n",
       "      <td>ENGLISH</td>\n",
       "    </tr>\n",
       "  </tbody>\n",
       "</table>\n",
       "<p>815 rows × 5 columns</p>\n",
       "</div>"
      ],
      "text/plain": [
       "                    ALink                         SName  \\\n",
       "460                 /311/               Leaving Babylon   \n",
       "466                 /311/              Livin' & Rockin'   \n",
       "474                 /311/                      Mindspin   \n",
       "1495          /aerosmith/             Write Me A Letter   \n",
       "2065            /alesana/               Second Guessing   \n",
       "...                   ...                           ...   \n",
       "170899   /jorge-e-mateus/                  Use Somebody   \n",
       "181811   /ronny-e-rangel/  Have You Ever Seen The Rain?   \n",
       "189026          /lenny-b/                 We Found Love   \n",
       "195050  /alexandre-pires/              Jingle Bell Rock   \n",
       "207552            /sambo/                Suddenly I See   \n",
       "\n",
       "                                                   SLink  \\\n",
       "460                            /311/leaving-babylon.html   \n",
       "466                               /311/livin-rockin.html   \n",
       "474                                   /311/mindspin.html   \n",
       "1495           /aerosmith/write-me-a-letter-cifrada.html   \n",
       "2065                       /alesana/second-guessing.html   \n",
       "...                                                  ...   \n",
       "170899                 /jorge-e-mateus/use-somebody.html   \n",
       "181811  /ronny-e-rangel/have-you-ever-seen-the-rain.html   \n",
       "189026                       /lenny-b/we-found-love.html   \n",
       "195050            /alexandre-pires/jingle-bell-rock.html   \n",
       "207552                        /sambo/suddenly-i-see.html   \n",
       "\n",
       "                                                    Lyric    Idiom  \n",
       "460     My computer is future shockin’. download this ...  ENGLISH  \n",
       "466     My computer is future shockin’. download this ...  ENGLISH  \n",
       "474     My computer is future shockin’. download this ...  ENGLISH  \n",
       "1495    WRITE ME A LETTER\\nguitar 1(Joe)\\nE-----------...  ENGLISH  \n",
       "2065    These eyes they have seen the world. These fee...  ENGLISH  \n",
       "...                                                   ...      ...  \n",
       "170899  I've been roaming around. Always looking down ...  ENGLISH  \n",
       "181811  Someone told me long ago. There's a calm befor...  ENGLISH  \n",
       "189026  Yellow diamonds in the light. And we're standi...  ENGLISH  \n",
       "195050  Jingle bell, jingle bell, jingle bell rock. Ji...  ENGLISH  \n",
       "207552  Her face is a map of the world, is a map of th...  ENGLISH  \n",
       "\n",
       "[815 rows x 5 columns]"
      ]
     },
     "execution_count": 13,
     "metadata": {},
     "output_type": "execute_result"
    }
   ],
   "source": [
    "(df_lyrics_en[df_lyrics_en.duplicated(subset = 'Lyric', keep = 'first')])"
   ]
  },
  {
   "cell_type": "markdown",
   "metadata": {
    "papermill": {
     "duration": 0.03114,
     "end_time": "2021-02-08T16:01:01.209721",
     "exception": false,
     "start_time": "2021-02-08T16:01:01.178581",
     "status": "completed"
    },
    "tags": []
   },
   "source": [
    "Apparently, the 'SName' 'SLink' columns are not well defined, and we have the same song lyrics under different song names, for the same artists. We should make sure that the lyrics appear once under every artist, without eliminating any possible cover songs. First we will get rid of the 'SName', 'SLink' and 'Idiom' columns now since they are of no further use."
   ]
  },
  {
   "cell_type": "code",
   "execution_count": 14,
   "metadata": {
    "execution": {
     "iopub.execute_input": "2021-02-08T16:01:01.286815Z",
     "iopub.status.busy": "2021-02-08T16:01:01.278916Z",
     "iopub.status.idle": "2021-02-08T16:01:01.295744Z",
     "shell.execute_reply": "2021-02-08T16:01:01.296212Z"
    },
    "papermill": {
     "duration": 0.055582,
     "end_time": "2021-02-08T16:01:01.296358",
     "exception": false,
     "start_time": "2021-02-08T16:01:01.240776",
     "status": "completed"
    },
    "tags": []
   },
   "outputs": [
    {
     "data": {
      "text/html": [
       "<div>\n",
       "<style scoped>\n",
       "    .dataframe tbody tr th:only-of-type {\n",
       "        vertical-align: middle;\n",
       "    }\n",
       "\n",
       "    .dataframe tbody tr th {\n",
       "        vertical-align: top;\n",
       "    }\n",
       "\n",
       "    .dataframe thead th {\n",
       "        text-align: right;\n",
       "    }\n",
       "</style>\n",
       "<table border=\"1\" class=\"dataframe\">\n",
       "  <thead>\n",
       "    <tr style=\"text-align: right;\">\n",
       "      <th></th>\n",
       "      <th>ALink</th>\n",
       "      <th>Lyric</th>\n",
       "    </tr>\n",
       "  </thead>\n",
       "  <tbody>\n",
       "    <tr>\n",
       "      <th>0</th>\n",
       "      <td>/10000-maniacs/</td>\n",
       "      <td>I could feel at the time. There was no way of ...</td>\n",
       "    </tr>\n",
       "    <tr>\n",
       "      <th>1</th>\n",
       "      <td>/10000-maniacs/</td>\n",
       "      <td>Take me now, baby, here as I am. Hold me close...</td>\n",
       "    </tr>\n",
       "    <tr>\n",
       "      <th>2</th>\n",
       "      <td>/10000-maniacs/</td>\n",
       "      <td>These are. These are days you'll remember. Nev...</td>\n",
       "    </tr>\n",
       "    <tr>\n",
       "      <th>3</th>\n",
       "      <td>/10000-maniacs/</td>\n",
       "      <td>A lie to say, \"O my mountain has coal veins an...</td>\n",
       "    </tr>\n",
       "    <tr>\n",
       "      <th>4</th>\n",
       "      <td>/10000-maniacs/</td>\n",
       "      <td>Trudging slowly over wet sand. Back to the ben...</td>\n",
       "    </tr>\n",
       "    <tr>\n",
       "      <th>...</th>\n",
       "      <td>...</td>\n",
       "      <td>...</td>\n",
       "    </tr>\n",
       "    <tr>\n",
       "      <th>207611</th>\n",
       "      <td>/sambo/</td>\n",
       "      <td>(Chorus). Hello, hello,hello,how low. Hello,he...</td>\n",
       "    </tr>\n",
       "    <tr>\n",
       "      <th>207624</th>\n",
       "      <td>/sambo/</td>\n",
       "      <td>Well sometimes I go out by myself. And I look ...</td>\n",
       "    </tr>\n",
       "    <tr>\n",
       "      <th>207628</th>\n",
       "      <td>/sambo/</td>\n",
       "      <td>Feeling my way through the darkness. Guided by...</td>\n",
       "    </tr>\n",
       "    <tr>\n",
       "      <th>207792</th>\n",
       "      <td>/seu-jorge/</td>\n",
       "      <td>Don't, don't, that's what you say. Each time t...</td>\n",
       "    </tr>\n",
       "    <tr>\n",
       "      <th>209285</th>\n",
       "      <td>/zeca-pagodinho/</td>\n",
       "      <td>I've been. For almost everything in life. In t...</td>\n",
       "    </tr>\n",
       "  </tbody>\n",
       "</table>\n",
       "<p>91611 rows × 2 columns</p>\n",
       "</div>"
      ],
      "text/plain": [
       "                   ALink                                              Lyric\n",
       "0        /10000-maniacs/  I could feel at the time. There was no way of ...\n",
       "1        /10000-maniacs/  Take me now, baby, here as I am. Hold me close...\n",
       "2        /10000-maniacs/  These are. These are days you'll remember. Nev...\n",
       "3        /10000-maniacs/  A lie to say, \"O my mountain has coal veins an...\n",
       "4        /10000-maniacs/  Trudging slowly over wet sand. Back to the ben...\n",
       "...                  ...                                                ...\n",
       "207611           /sambo/  (Chorus). Hello, hello,hello,how low. Hello,he...\n",
       "207624           /sambo/  Well sometimes I go out by myself. And I look ...\n",
       "207628           /sambo/  Feeling my way through the darkness. Guided by...\n",
       "207792       /seu-jorge/  Don't, don't, that's what you say. Each time t...\n",
       "209285  /zeca-pagodinho/  I've been. For almost everything in life. In t...\n",
       "\n",
       "[91611 rows x 2 columns]"
      ]
     },
     "execution_count": 14,
     "metadata": {},
     "output_type": "execute_result"
    }
   ],
   "source": [
    "df_lyrics_nd = df_lyrics_en.drop(['SName', 'SLink', 'Idiom'], axis=1)\n",
    "df_lyrics_nd"
   ]
  },
  {
   "cell_type": "markdown",
   "metadata": {
    "papermill": {
     "duration": 0.031568,
     "end_time": "2021-02-08T16:01:01.360695",
     "exception": false,
     "start_time": "2021-02-08T16:01:01.329127",
     "status": "completed"
    },
    "tags": []
   },
   "source": [
    "Now we have a dataframe with the Artist and Lyric columns. Any duplicate rows will indicate the existence of the same song by the same artist, and can therefore be safely discarded."
   ]
  },
  {
   "cell_type": "code",
   "execution_count": 15,
   "metadata": {
    "execution": {
     "iopub.execute_input": "2021-02-08T16:01:01.426345Z",
     "iopub.status.busy": "2021-02-08T16:01:01.425749Z",
     "iopub.status.idle": "2021-02-08T16:01:02.277860Z",
     "shell.execute_reply": "2021-02-08T16:01:02.277207Z"
    },
    "papermill": {
     "duration": 0.886184,
     "end_time": "2021-02-08T16:01:02.277988",
     "exception": false,
     "start_time": "2021-02-08T16:01:01.391804",
     "status": "completed"
    },
    "tags": []
   },
   "outputs": [
    {
     "data": {
      "text/plain": [
       "False    91392\n",
       "dtype: int64"
      ]
     },
     "execution_count": 15,
     "metadata": {},
     "output_type": "execute_result"
    }
   ],
   "source": [
    "# Discard all duplicate rows: \n",
    "df_lyrics_nd.drop_duplicates(inplace=True)\n",
    "\n",
    "# Check that we have absolutely no duplicate entries remaining:\n",
    "df_lyrics_nd.duplicated().value_counts()"
   ]
  },
  {
   "cell_type": "markdown",
   "metadata": {
    "papermill": {
     "duration": 0.031694,
     "end_time": "2021-02-08T16:01:02.342468",
     "exception": false,
     "start_time": "2021-02-08T16:01:02.310774",
     "status": "completed"
    },
    "tags": []
   },
   "source": [
    "## Merge dataframes\n",
    "\n",
    "Now that we have two clean dataframes, we can merge them at the name of the artist to create our main dataset."
   ]
  },
  {
   "cell_type": "code",
   "execution_count": 16,
   "metadata": {
    "execution": {
     "iopub.execute_input": "2021-02-08T16:01:02.425092Z",
     "iopub.status.busy": "2021-02-08T16:01:02.424347Z",
     "iopub.status.idle": "2021-02-08T16:01:02.453205Z",
     "shell.execute_reply": "2021-02-08T16:01:02.452645Z"
    },
    "papermill": {
     "duration": 0.077831,
     "end_time": "2021-02-08T16:01:02.453335",
     "exception": false,
     "start_time": "2021-02-08T16:01:02.375504",
     "status": "completed"
    },
    "tags": []
   },
   "outputs": [
    {
     "data": {
      "text/html": [
       "<div>\n",
       "<style scoped>\n",
       "    .dataframe tbody tr th:only-of-type {\n",
       "        vertical-align: middle;\n",
       "    }\n",
       "\n",
       "    .dataframe tbody tr th {\n",
       "        vertical-align: top;\n",
       "    }\n",
       "\n",
       "    .dataframe thead th {\n",
       "        text-align: right;\n",
       "    }\n",
       "</style>\n",
       "<table border=\"1\" class=\"dataframe\">\n",
       "  <thead>\n",
       "    <tr style=\"text-align: right;\">\n",
       "      <th></th>\n",
       "      <th>ALink</th>\n",
       "      <th>Lyric</th>\n",
       "      <th>Link</th>\n",
       "      <th>Genre</th>\n",
       "    </tr>\n",
       "  </thead>\n",
       "  <tbody>\n",
       "    <tr>\n",
       "      <th>0</th>\n",
       "      <td>/10000-maniacs/</td>\n",
       "      <td>I could feel at the time. There was no way of ...</td>\n",
       "      <td>/10000-maniacs/</td>\n",
       "      <td>Rock</td>\n",
       "    </tr>\n",
       "    <tr>\n",
       "      <th>1</th>\n",
       "      <td>/10000-maniacs/</td>\n",
       "      <td>Take me now, baby, here as I am. Hold me close...</td>\n",
       "      <td>/10000-maniacs/</td>\n",
       "      <td>Rock</td>\n",
       "    </tr>\n",
       "    <tr>\n",
       "      <th>2</th>\n",
       "      <td>/10000-maniacs/</td>\n",
       "      <td>These are. These are days you'll remember. Nev...</td>\n",
       "      <td>/10000-maniacs/</td>\n",
       "      <td>Rock</td>\n",
       "    </tr>\n",
       "    <tr>\n",
       "      <th>3</th>\n",
       "      <td>/10000-maniacs/</td>\n",
       "      <td>A lie to say, \"O my mountain has coal veins an...</td>\n",
       "      <td>/10000-maniacs/</td>\n",
       "      <td>Rock</td>\n",
       "    </tr>\n",
       "    <tr>\n",
       "      <th>4</th>\n",
       "      <td>/10000-maniacs/</td>\n",
       "      <td>Trudging slowly over wet sand. Back to the ben...</td>\n",
       "      <td>/10000-maniacs/</td>\n",
       "      <td>Rock</td>\n",
       "    </tr>\n",
       "  </tbody>\n",
       "</table>\n",
       "</div>"
      ],
      "text/plain": [
       "             ALink                                              Lyric  \\\n",
       "0  /10000-maniacs/  I could feel at the time. There was no way of ...   \n",
       "1  /10000-maniacs/  Take me now, baby, here as I am. Hold me close...   \n",
       "2  /10000-maniacs/  These are. These are days you'll remember. Nev...   \n",
       "3  /10000-maniacs/  A lie to say, \"O my mountain has coal veins an...   \n",
       "4  /10000-maniacs/  Trudging slowly over wet sand. Back to the ben...   \n",
       "\n",
       "              Link Genre  \n",
       "0  /10000-maniacs/  Rock  \n",
       "1  /10000-maniacs/  Rock  \n",
       "2  /10000-maniacs/  Rock  \n",
       "3  /10000-maniacs/  Rock  \n",
       "4  /10000-maniacs/  Rock  "
      ]
     },
     "execution_count": 16,
     "metadata": {},
     "output_type": "execute_result"
    }
   ],
   "source": [
    "df_merged = pd.merge(df_lyrics_nd, df_artists_nd, how='inner', left_on='ALink', right_on='Link')\n",
    "df_merged.head()"
   ]
  },
  {
   "cell_type": "markdown",
   "metadata": {
    "papermill": {
     "duration": 0.032823,
     "end_time": "2021-02-08T16:01:02.520225",
     "exception": false,
     "start_time": "2021-02-08T16:01:02.487402",
     "status": "completed"
    },
    "tags": []
   },
   "source": [
    "We can now discard the artist names as we have no further use for them."
   ]
  },
  {
   "cell_type": "code",
   "execution_count": 17,
   "metadata": {
    "execution": {
     "iopub.execute_input": "2021-02-08T16:01:02.590213Z",
     "iopub.status.busy": "2021-02-08T16:01:02.589364Z",
     "iopub.status.idle": "2021-02-08T16:01:02.613178Z",
     "shell.execute_reply": "2021-02-08T16:01:02.612512Z"
    },
    "papermill": {
     "duration": 0.059828,
     "end_time": "2021-02-08T16:01:02.613308",
     "exception": false,
     "start_time": "2021-02-08T16:01:02.553480",
     "status": "completed"
    },
    "tags": []
   },
   "outputs": [
    {
     "data": {
      "text/html": [
       "<div>\n",
       "<style scoped>\n",
       "    .dataframe tbody tr th:only-of-type {\n",
       "        vertical-align: middle;\n",
       "    }\n",
       "\n",
       "    .dataframe tbody tr th {\n",
       "        vertical-align: top;\n",
       "    }\n",
       "\n",
       "    .dataframe thead th {\n",
       "        text-align: right;\n",
       "    }\n",
       "</style>\n",
       "<table border=\"1\" class=\"dataframe\">\n",
       "  <thead>\n",
       "    <tr style=\"text-align: right;\">\n",
       "      <th></th>\n",
       "      <th>Lyric</th>\n",
       "      <th>Genre</th>\n",
       "    </tr>\n",
       "  </thead>\n",
       "  <tbody>\n",
       "    <tr>\n",
       "      <th>0</th>\n",
       "      <td>I could feel at the time. There was no way of ...</td>\n",
       "      <td>Rock</td>\n",
       "    </tr>\n",
       "    <tr>\n",
       "      <th>1</th>\n",
       "      <td>Take me now, baby, here as I am. Hold me close...</td>\n",
       "      <td>Rock</td>\n",
       "    </tr>\n",
       "    <tr>\n",
       "      <th>2</th>\n",
       "      <td>These are. These are days you'll remember. Nev...</td>\n",
       "      <td>Rock</td>\n",
       "    </tr>\n",
       "    <tr>\n",
       "      <th>3</th>\n",
       "      <td>A lie to say, \"O my mountain has coal veins an...</td>\n",
       "      <td>Rock</td>\n",
       "    </tr>\n",
       "    <tr>\n",
       "      <th>4</th>\n",
       "      <td>Trudging slowly over wet sand. Back to the ben...</td>\n",
       "      <td>Rock</td>\n",
       "    </tr>\n",
       "  </tbody>\n",
       "</table>\n",
       "</div>"
      ],
      "text/plain": [
       "                                               Lyric Genre\n",
       "0  I could feel at the time. There was no way of ...  Rock\n",
       "1  Take me now, baby, here as I am. Hold me close...  Rock\n",
       "2  These are. These are days you'll remember. Nev...  Rock\n",
       "3  A lie to say, \"O my mountain has coal veins an...  Rock\n",
       "4  Trudging slowly over wet sand. Back to the ben...  Rock"
      ]
     },
     "execution_count": 17,
     "metadata": {},
     "output_type": "execute_result"
    }
   ],
   "source": [
    "df_merged_2c = df_merged.drop(['ALink','Link'], axis=1)\n",
    "df_merged_2c.head()"
   ]
  },
  {
   "cell_type": "markdown",
   "metadata": {
    "papermill": {
     "duration": 0.034407,
     "end_time": "2021-02-08T16:01:02.681818",
     "exception": false,
     "start_time": "2021-02-08T16:01:02.647411",
     "status": "completed"
    },
    "tags": []
   },
   "source": [
    "Now that we have simplified our dataframe, let's take a look at our labels (Genre)."
   ]
  },
  {
   "cell_type": "code",
   "execution_count": 18,
   "metadata": {
    "execution": {
     "iopub.execute_input": "2021-02-08T16:01:02.754871Z",
     "iopub.status.busy": "2021-02-08T16:01:02.754197Z",
     "iopub.status.idle": "2021-02-08T16:01:02.786080Z",
     "shell.execute_reply": "2021-02-08T16:01:02.786577Z"
    },
    "papermill": {
     "duration": 0.070618,
     "end_time": "2021-02-08T16:01:02.786769",
     "exception": false,
     "start_time": "2021-02-08T16:01:02.716151",
     "status": "completed"
    },
    "tags": []
   },
   "outputs": [
    {
     "data": {
      "text/plain": [
       "Rock            47534\n",
       "Pop             25647\n",
       "Hip Hop         13661\n",
       "Sertanejo          51\n",
       "Samba              42\n",
       "Funk Carioca       15\n",
       "Name: Genre, dtype: int64"
      ]
     },
     "execution_count": 18,
     "metadata": {},
     "output_type": "execute_result"
    }
   ],
   "source": [
    "df_merged_2c.Genre.value_counts()"
   ]
  },
  {
   "cell_type": "markdown",
   "metadata": {
    "papermill": {
     "duration": 0.035388,
     "end_time": "2021-02-08T16:01:02.856427",
     "exception": false,
     "start_time": "2021-02-08T16:01:02.821039",
     "status": "completed"
    },
    "tags": []
   },
   "source": [
    "I like Rock, but this definitely isn't the most balanced dataset. At this stage it is probably better if we completely discard the three least represented genres as they are effectively outliers in our data. "
   ]
  },
  {
   "cell_type": "code",
   "execution_count": 19,
   "metadata": {
    "execution": {
     "iopub.execute_input": "2021-02-08T16:01:02.929336Z",
     "iopub.status.busy": "2021-02-08T16:01:02.928720Z",
     "iopub.status.idle": "2021-02-08T16:01:03.001621Z",
     "shell.execute_reply": "2021-02-08T16:01:03.001075Z"
    },
    "papermill": {
     "duration": 0.110618,
     "end_time": "2021-02-08T16:01:03.001779",
     "exception": false,
     "start_time": "2021-02-08T16:01:02.891161",
     "status": "completed"
    },
    "tags": []
   },
   "outputs": [
    {
     "data": {
      "text/html": [
       "<div>\n",
       "<style scoped>\n",
       "    .dataframe tbody tr th:only-of-type {\n",
       "        vertical-align: middle;\n",
       "    }\n",
       "\n",
       "    .dataframe tbody tr th {\n",
       "        vertical-align: top;\n",
       "    }\n",
       "\n",
       "    .dataframe thead th {\n",
       "        text-align: right;\n",
       "    }\n",
       "</style>\n",
       "<table border=\"1\" class=\"dataframe\">\n",
       "  <thead>\n",
       "    <tr style=\"text-align: right;\">\n",
       "      <th></th>\n",
       "      <th>Lyric</th>\n",
       "      <th>Genre</th>\n",
       "    </tr>\n",
       "  </thead>\n",
       "  <tbody>\n",
       "    <tr>\n",
       "      <th>0</th>\n",
       "      <td>I could feel at the time. There was no way of ...</td>\n",
       "      <td>Rock</td>\n",
       "    </tr>\n",
       "    <tr>\n",
       "      <th>1</th>\n",
       "      <td>Take me now, baby, here as I am. Hold me close...</td>\n",
       "      <td>Rock</td>\n",
       "    </tr>\n",
       "    <tr>\n",
       "      <th>2</th>\n",
       "      <td>These are. These are days you'll remember. Nev...</td>\n",
       "      <td>Rock</td>\n",
       "    </tr>\n",
       "    <tr>\n",
       "      <th>3</th>\n",
       "      <td>A lie to say, \"O my mountain has coal veins an...</td>\n",
       "      <td>Rock</td>\n",
       "    </tr>\n",
       "    <tr>\n",
       "      <th>4</th>\n",
       "      <td>Trudging slowly over wet sand. Back to the ben...</td>\n",
       "      <td>Rock</td>\n",
       "    </tr>\n",
       "    <tr>\n",
       "      <th>...</th>\n",
       "      <td>...</td>\n",
       "      <td>...</td>\n",
       "    </tr>\n",
       "    <tr>\n",
       "      <th>86860</th>\n",
       "      <td>Smile though your heart. Is aching. Smile even...</td>\n",
       "      <td>Pop</td>\n",
       "    </tr>\n",
       "    <tr>\n",
       "      <th>86861</th>\n",
       "      <td>A dream like this. Not something. You wish for...</td>\n",
       "      <td>Pop</td>\n",
       "    </tr>\n",
       "    <tr>\n",
       "      <th>86862</th>\n",
       "      <td>Aah, yeah yeah. I see the spotlight in my drea...</td>\n",
       "      <td>Pop</td>\n",
       "    </tr>\n",
       "    <tr>\n",
       "      <th>86863</th>\n",
       "      <td>I'm, dreaming of a white, Christmas. Just like...</td>\n",
       "      <td>Pop</td>\n",
       "    </tr>\n",
       "    <tr>\n",
       "      <th>86864</th>\n",
       "      <td>Ha, a-plus on the track. Ha, ha, ha, uh, yeah....</td>\n",
       "      <td>Pop</td>\n",
       "    </tr>\n",
       "  </tbody>\n",
       "</table>\n",
       "<p>86842 rows × 2 columns</p>\n",
       "</div>"
      ],
      "text/plain": [
       "                                                   Lyric Genre\n",
       "0      I could feel at the time. There was no way of ...  Rock\n",
       "1      Take me now, baby, here as I am. Hold me close...  Rock\n",
       "2      These are. These are days you'll remember. Nev...  Rock\n",
       "3      A lie to say, \"O my mountain has coal veins an...  Rock\n",
       "4      Trudging slowly over wet sand. Back to the ben...  Rock\n",
       "...                                                  ...   ...\n",
       "86860  Smile though your heart. Is aching. Smile even...   Pop\n",
       "86861  A dream like this. Not something. You wish for...   Pop\n",
       "86862  Aah, yeah yeah. I see the spotlight in my drea...   Pop\n",
       "86863  I'm, dreaming of a white, Christmas. Just like...   Pop\n",
       "86864  Ha, a-plus on the track. Ha, ha, ha, uh, yeah....   Pop\n",
       "\n",
       "[86842 rows x 2 columns]"
      ]
     },
     "execution_count": 19,
     "metadata": {},
     "output_type": "execute_result"
    }
   ],
   "source": [
    "df_3g = df_merged_2c.drop(df_merged_2c[ (df_merged_2c['Genre'] == 'Sertanejo') | (df_merged_2c['Genre'] == 'Samba') | (df_merged_2c['Genre'] == 'Funk Carioca')].index)\n",
    "df_3g"
   ]
  },
  {
   "cell_type": "markdown",
   "metadata": {
    "papermill": {
     "duration": 0.035795,
     "end_time": "2021-02-08T16:01:03.074084",
     "exception": false,
     "start_time": "2021-02-08T16:01:03.038289",
     "status": "completed"
    },
    "tags": []
   },
   "source": [
    "So now we have a 3 Genre dataset (Pop, Rock & Hip Hop). Once last thing to do is to clear any remaining duplicate rows. This will discard the same song performed by different artists in the same genre."
   ]
  },
  {
   "cell_type": "code",
   "execution_count": 20,
   "metadata": {
    "execution": {
     "iopub.execute_input": "2021-02-08T16:01:03.181933Z",
     "iopub.status.busy": "2021-02-08T16:01:03.166462Z",
     "iopub.status.idle": "2021-02-08T16:01:03.557527Z",
     "shell.execute_reply": "2021-02-08T16:01:03.556879Z"
    },
    "papermill": {
     "duration": 0.447946,
     "end_time": "2021-02-08T16:01:03.557700",
     "exception": false,
     "start_time": "2021-02-08T16:01:03.109754",
     "status": "completed"
    },
    "tags": []
   },
   "outputs": [],
   "source": [
    "df_3g.drop_duplicates(inplace=True)"
   ]
  },
  {
   "cell_type": "markdown",
   "metadata": {
    "papermill": {
     "duration": 0.035193,
     "end_time": "2021-02-08T16:01:03.628759",
     "exception": false,
     "start_time": "2021-02-08T16:01:03.593566",
     "status": "completed"
    },
    "tags": []
   },
   "source": [
    "Finally, let's perform a one-hot encoding of the labels, so that they are in a convenient format for our classifier."
   ]
  },
  {
   "cell_type": "code",
   "execution_count": 21,
   "metadata": {
    "execution": {
     "iopub.execute_input": "2021-02-08T16:01:03.715392Z",
     "iopub.status.busy": "2021-02-08T16:01:03.710677Z",
     "iopub.status.idle": "2021-02-08T16:01:03.733560Z",
     "shell.execute_reply": "2021-02-08T16:01:03.733009Z"
    },
    "papermill": {
     "duration": 0.069936,
     "end_time": "2021-02-08T16:01:03.733714",
     "exception": false,
     "start_time": "2021-02-08T16:01:03.663778",
     "status": "completed"
    },
    "tags": []
   },
   "outputs": [],
   "source": [
    "# use pd.concat to join the new columns with your original dataframe\n",
    "df_3g = pd.concat([df_3g,pd.get_dummies(df_3g['Genre'])],axis=1)\n",
    "\n",
    "# now drop the original 'Genre' column (you don't need it anymore)\n",
    "df_3g.drop(['Genre'],axis=1, inplace=True)"
   ]
  },
  {
   "cell_type": "markdown",
   "metadata": {
    "papermill": {
     "duration": 0.035841,
     "end_time": "2021-02-08T16:01:03.805930",
     "exception": false,
     "start_time": "2021-02-08T16:01:03.770089",
     "status": "completed"
    },
    "tags": []
   },
   "source": [
    "We are good to go. Let's store our cleaned up dataset. We will use this dataset to train our classifier in the next Notebook."
   ]
  },
  {
   "cell_type": "code",
   "execution_count": 22,
   "metadata": {
    "execution": {
     "iopub.execute_input": "2021-02-08T16:01:03.883363Z",
     "iopub.status.busy": "2021-02-08T16:01:03.882438Z",
     "iopub.status.idle": "2021-02-08T16:01:06.299374Z",
     "shell.execute_reply": "2021-02-08T16:01:06.298723Z"
    },
    "papermill": {
     "duration": 2.456925,
     "end_time": "2021-02-08T16:01:06.299509",
     "exception": false,
     "start_time": "2021-02-08T16:01:03.842584",
     "status": "completed"
    },
    "tags": []
   },
   "outputs": [],
   "source": [
    "# Save as .csv\n",
    "df_3g.to_csv('DF_3Genres_Lyrics_En.csv', index = False)"
   ]
  },
  {
   "cell_type": "markdown",
   "metadata": {
    "papermill": {
     "duration": 0.035878,
     "end_time": "2021-02-08T16:01:06.383568",
     "exception": false,
     "start_time": "2021-02-08T16:01:06.347690",
     "status": "completed"
    },
    "tags": []
   },
   "source": [
    "Here is one additional step that we could have taken if we had decided to verge into multi-label classification territory by keeping duplicate artist entries for multiple genres. \n",
    "This is to merge rows with the same lyrics and duplicate entries under different label. Using the aggregate function, this will generate entries with multiple labels. Then we would need to use a classifier such as Multi-Label K-Nearest Neighbours, capable of handling this task. We will ignore this now, since we are taking a single-label approach, which gives us more flexibility in choosing a classifier.\n",
    "The optional code is shown below:"
   ]
  },
  {
   "cell_type": "code",
   "execution_count": 23,
   "metadata": {
    "execution": {
     "iopub.execute_input": "2021-02-08T16:01:06.460852Z",
     "iopub.status.busy": "2021-02-08T16:01:06.459964Z",
     "iopub.status.idle": "2021-02-08T16:01:06.464669Z",
     "shell.execute_reply": "2021-02-08T16:01:06.464089Z"
    },
    "papermill": {
     "duration": 0.045088,
     "end_time": "2021-02-08T16:01:06.464801",
     "exception": false,
     "start_time": "2021-02-08T16:01:06.419713",
     "status": "completed"
    },
    "tags": []
   },
   "outputs": [
    {
     "data": {
      "text/plain": [
       "\"\\naggregation_functions = {'Hip Hop': 'sum', 'Pop': 'sum', 'Rock': 'sum','Lyric': 'first'}\\ndf_ml = df_3g.groupby(df_3g.Lyric).agg(aggregation_functions).reset_index(drop=True)\\ndf_ml.head()\\n\""
      ]
     },
     "execution_count": 23,
     "metadata": {},
     "output_type": "execute_result"
    }
   ],
   "source": [
    "'''\n",
    "aggregation_functions = {'Hip Hop': 'sum', 'Pop': 'sum', 'Rock': 'sum','Lyric': 'first'}\n",
    "df_ml = df_3g.groupby(df_3g.Lyric).agg(aggregation_functions).reset_index(drop=True)\n",
    "df_ml.head()\n",
    "'''"
   ]
  }
 ],
 "metadata": {
  "kernelspec": {
   "display_name": "Python 3",
   "language": "python",
   "name": "python3"
  },
  "language_info": {
   "codemirror_mode": {
    "name": "ipython",
    "version": 3
   },
   "file_extension": ".py",
   "mimetype": "text/x-python",
   "name": "python",
   "nbconvert_exporter": "python",
   "pygments_lexer": "ipython3",
   "version": "3.7.9"
  },
  "papermill": {
   "default_parameters": {},
   "duration": 21.975818,
   "end_time": "2021-02-08T16:01:07.011844",
   "environment_variables": {},
   "exception": null,
   "input_path": "__notebook__.ipynb",
   "output_path": "__notebook__.ipynb",
   "parameters": {},
   "start_time": "2021-02-08T16:00:45.036026",
   "version": "2.2.2"
  }
 },
 "nbformat": 4,
 "nbformat_minor": 4
}
